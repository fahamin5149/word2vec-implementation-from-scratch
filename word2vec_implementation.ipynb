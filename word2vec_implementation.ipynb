{
  "nbformat": 4,
  "nbformat_minor": 0,
  "metadata": {
    "colab": {
      "provenance": []
    },
    "kernelspec": {
      "name": "python3",
      "display_name": "Python 3"
    },
    "language_info": {
      "name": "python"
    }
  },
  "cells": [
    {
      "cell_type": "markdown",
      "source": [
        "# Implementing word embeding from scratch"
      ],
      "metadata": {
        "id": "LagwexNbrzSt"
      }
    },
    {
      "cell_type": "code",
      "execution_count": 2,
      "metadata": {
        "colab": {
          "base_uri": "https://localhost:8080/"
        },
        "id": "MNNEer2RqcG9",
        "outputId": "ae9767d3-aac4-4627-95a8-10f0a937c84d"
      },
      "outputs": [
        {
          "output_type": "stream",
          "name": "stdout",
          "text": [
            "Mounted at /content/drive\n"
          ]
        }
      ],
      "source": [
        "from google.colab import drive\n",
        "drive.mount('/content/drive')"
      ]
    },
    {
      "cell_type": "code",
      "source": [
        "%cd /content/drive/My Drive/NLP/"
      ],
      "metadata": {
        "colab": {
          "base_uri": "https://localhost:8080/"
        },
        "id": "HxT6LX4Zrmn7",
        "outputId": "df352f01-15cf-4423-a2fa-18af56d01c09"
      },
      "execution_count": 3,
      "outputs": [
        {
          "output_type": "stream",
          "name": "stdout",
          "text": [
            "/content/drive/My Drive/NLP\n"
          ]
        }
      ]
    },
    {
      "cell_type": "code",
      "source": [
        "with open('alice.txt', 'r') as f:\n",
        "    filedata = f.readlines()"
      ],
      "metadata": {
        "id": "lld9AygHtDhX"
      },
      "execution_count": 4,
      "outputs": []
    },
    {
      "cell_type": "code",
      "source": [
        "# print(filedata)"
      ],
      "metadata": {
        "id": "Rg3dA-m4tamu"
      },
      "execution_count": 1,
      "outputs": []
    },
    {
      "cell_type": "markdown",
      "source": [
        "# Importing libraries"
      ],
      "metadata": {
        "id": "hVOMbHPQ4Re6"
      }
    },
    {
      "cell_type": "code",
      "source": [
        "import numpy as np\n",
        "import keras.backend as K\n",
        "import tensorflow as tf\n",
        "import operator\n",
        "from tensorflow import keras\n",
        "\n",
        "from tensorflow.keras.preprocessing.sequence import skipgrams\n",
        "from tensorflow.keras.optimizers import Adam\n",
        "\n",
        "from tensorflow.keras.models import Sequential\n",
        "from tensorflow.keras.layers import Dense, Embedding, Reshape, Lambda\n",
        "from tensorflow.keras.utils import to_categorical\n",
        "from tensorflow.keras.preprocessing.text import Tokenizer\n",
        "from tensorflow.keras.utils import plot_model\n",
        "from tensorflow.keras.preprocessing import sequence\n",
        "from sklearn.metrics.pairwise import cosine_distances\n",
        "\n",
        "from sklearn.manifold import TSNE\n",
        "from sklearn.metrics.pairwise import cosine_similarity\n",
        "from sklearn.neighbors import NearestNeighbors as nn\n",
        "from matplotlib import pylab\n",
        "import pandas as pd"
      ],
      "metadata": {
        "id": "x4j_7J925N0D"
      },
      "execution_count": 5,
      "outputs": []
    },
    {
      "cell_type": "markdown",
      "source": [
        "**Data pre-processing**"
      ],
      "metadata": {
        "id": "7JAXkjbD6_cb"
      }
    },
    {
      "cell_type": "code",
      "source": [
        "filedata = [sentence for sentence in filedata if sentence.count(\" \") >= 2]\n",
        "\n",
        "# Remove punctuation in text and fit tokenizer on entire corpus\n",
        "tokenizer = Tokenizer(filters='!\"#$%&()*+,-./:;<=>?@[\\]^_`{|}~\\t\\n'+\"'\")"
      ],
      "metadata": {
        "id": "N9xbLIgwHGez"
      },
      "execution_count": 6,
      "outputs": []
    },
    {
      "cell_type": "markdown",
      "source": [
        "The tokenizer will filter the punctuation and other irrelevent data and will assign each word in the text to unique integer"
      ],
      "metadata": {
        "id": "69WUJfr0IS3O"
      }
    },
    {
      "cell_type": "code",
      "source": [
        "# This will first filter the text and then tokenize the words in the text\n",
        "# Assign an index based on the frequency (words with the same frequency can be ordered by their first appearance):\n",
        "#{'a': 1, 'quick': 2, 'brown': 3, 'fox': 4, 'jump': 5, 'the': 6, 'lady': 7}\n",
        "\n",
        "tokenizer.fit_on_texts(filedata)\n",
        "\n",
        "# this will retreive the word_index formed above\n",
        "word_index = tokenizer.word_index\n",
        "\n",
        "vocab_size = len(word_index) + 1\n",
        "vocab_unique=len(word_index)+1\n",
        "\n",
        "# This will assign each word of the sentence with the word index assign with it\n",
        "sequences = tokenizer.texts_to_sequences(filedata)"
      ],
      "metadata": {
        "id": "S74Ob2tHFktL"
      },
      "execution_count": 7,
      "outputs": []
    },
    {
      "cell_type": "markdown",
      "source": [
        "Checking some sample data points"
      ],
      "metadata": {
        "id": "6ptg0fF9em--"
      }
    },
    {
      "cell_type": "code",
      "source": [
        "import random\n",
        "\n",
        "print(\"Tokenized sequences:\", sequences[:2])\n",
        "samplesize=4\n",
        "indexsample=random.sample(list(word_index.items()), samplesize)\n",
        "\n",
        "dictindexsample=dict(indexsample)\n",
        "print(\"Word index:\", dictindexsample)"
      ],
      "metadata": {
        "colab": {
          "base_uri": "https://localhost:8080/"
        },
        "id": "3AWi6Cntd-4q",
        "outputId": "d9866426-ad22-491c-d67b-acbb9652e4e6"
      },
      "execution_count": 10,
      "outputs": [
        {
          "output_type": "stream",
          "name": "stdout",
          "text": [
            "Tokenized sequences: [[305, 7, 38, 1, 92, 595], [11, 13, 253, 3, 106, 30, 470, 8, 342, 76, 16, 379, 20, 1]]\n",
            "Word index: {'everybody': 446, 'reasonable': 2427, 'ye': 1793, 'each': 453}\n"
          ]
        }
      ]
    },
    {
      "cell_type": "markdown",
      "source": [
        "## Applying the skipgram model which will find the context words from the target word"
      ],
      "metadata": {
        "id": "iAfRScoUhdu4"
      }
    },
    {
      "cell_type": "code",
      "source": [
        "skipgramsoftxt=[skipgrams(sequence, vocab_size, window_size=2)for sequence in sequences]"
      ],
      "metadata": {
        "id": "tMuybPLbFkwp"
      },
      "execution_count": null,
      "outputs": []
    },
    {
      "cell_type": "code",
      "source": [
        "# Checking some samples\n",
        "skipgramsoftxt[0]"
      ],
      "metadata": {
        "colab": {
          "base_uri": "https://localhost:8080/"
        },
        "id": "IWqMp6QxUq0V",
        "outputId": "430f56e5-0b57-4baf-95a4-464455aee270"
      },
      "execution_count": null,
      "outputs": [
        {
          "output_type": "execute_result",
          "data": {
            "text/plain": [
              "([[1, 412],\n",
              "  [595, 1],\n",
              "  [1, 92],\n",
              "  [1, 2152],\n",
              "  [92, 500],\n",
              "  [1, 2278],\n",
              "  [92, 595],\n",
              "  [38, 528],\n",
              "  [38, 7],\n",
              "  [38, 92],\n",
              "  [92, 1331],\n",
              "  [305, 1595],\n",
              "  [92, 434],\n",
              "  [92, 1],\n",
              "  [305, 2148],\n",
              "  [305, 38],\n",
              "  [1, 7],\n",
              "  [595, 201],\n",
              "  [7, 38],\n",
              "  [1, 595],\n",
              "  [1, 1418],\n",
              "  [7, 1104],\n",
              "  [7, 305],\n",
              "  [305, 7],\n",
              "  [7, 2286],\n",
              "  [92, 38],\n",
              "  [38, 26],\n",
              "  [7, 1],\n",
              "  [38, 1],\n",
              "  [38, 305],\n",
              "  [595, 92],\n",
              "  [1, 38],\n",
              "  [38, 710],\n",
              "  [7, 1472],\n",
              "  [595, 160],\n",
              "  [38, 686]],\n",
              " [0,\n",
              "  1,\n",
              "  1,\n",
              "  0,\n",
              "  0,\n",
              "  0,\n",
              "  1,\n",
              "  0,\n",
              "  1,\n",
              "  1,\n",
              "  0,\n",
              "  0,\n",
              "  0,\n",
              "  1,\n",
              "  0,\n",
              "  1,\n",
              "  1,\n",
              "  0,\n",
              "  1,\n",
              "  1,\n",
              "  0,\n",
              "  0,\n",
              "  1,\n",
              "  1,\n",
              "  0,\n",
              "  1,\n",
              "  0,\n",
              "  1,\n",
              "  1,\n",
              "  1,\n",
              "  1,\n",
              "  1,\n",
              "  0,\n",
              "  0,\n",
              "  0,\n",
              "  0])"
            ]
          },
          "metadata": {},
          "execution_count": 10
        }
      ]
    },
    {
      "cell_type": "markdown",
      "source": [
        "The skipgrams produces pairs and labels.\n",
        "\n",
        "Pair: These are pair derived from the sequences given to it and fixed window size\n",
        "\n",
        "Labels: This tells wether the pair is from context window or not because we pick words from context window and also randomly from dictionary and label them as zero meaning negative sampling"
      ],
      "metadata": {
        "id": "0ViNk4SolD6t"
      }
    },
    {
      "cell_type": "code",
      "source": [
        "pairs = []\n",
        "\n",
        "for sublist in skipgramsoftxt:\n",
        "    pairs_list = sublist[0]\n",
        "\n",
        "    for pair in pairs_list:\n",
        "        pairs.append(pair)\n",
        "\n",
        "labels = []\n",
        "\n",
        "for sublist in skipgramsoftxt:\n",
        "    labels_list = sublist[1]\n",
        "\n",
        "    for label in labels_list:\n",
        "        labels.append(label)\n",
        "\n",
        "# View some sample pairs and labels\n",
        "print(\"Sample pairs:\", pairs[:5])\n",
        "print(\"Sample labels:\", labels[:5])"
      ],
      "metadata": {
        "colab": {
          "base_uri": "https://localhost:8080/"
        },
        "id": "3iyFiq8-Fk1l",
        "outputId": "6db7549b-d3e9-4774-842a-8e61b2ff9888"
      },
      "execution_count": null,
      "outputs": [
        {
          "output_type": "stream",
          "name": "stdout",
          "text": [
            "Sample pairs: [[1, 412], [595, 1], [1, 92], [1, 2152], [92, 500]]\n",
            "Sample labels: [0, 1, 1, 0, 0]\n"
          ]
        }
      ]
    },
    {
      "cell_type": "markdown",
      "source": [
        "\n",
        "\n",
        "---\n",
        "\n",
        "# Training the model"
      ],
      "metadata": {
        "id": "G_FXDioSiD6z"
      }
    },
    {
      "cell_type": "markdown",
      "source": [
        "In neural networks for natural language processing (NLP), an embedding layer is typically used as the first layer to convert input text (represented as integers or categorical values) into dense vectors of fixed size, called embeddings."
      ],
      "metadata": {
        "id": "gjUPHYeenevq"
      }
    },
    {
      "cell_type": "code",
      "source": [
        "#dimension of embeding\n",
        "embedding_dim = 50\n",
        "\n",
        "#model\n",
        "model=Sequential()\n",
        "model.add(Embedding(input_dim=len(word_index) + 1,output_dim=embedding_dim, input_length=1))"
      ],
      "metadata": {
        "id": "pdHtFiZLFk5k"
      },
      "execution_count": null,
      "outputs": []
    },
    {
      "cell_type": "markdown",
      "source": [
        "The Reshape layer in Keras is used to reshape the tensor output from the previous layer into a desired shape.\n",
        "\n",
        "The Dense layer in Keras is a fully connected neural network layer where every input neuron is connected to every output neuron.\n",
        "\n",
        "activation='softmax' specifies the activation function for the output layer. In Word2Vec implementations, softmax activation is used to compute probabilities of each word in the vocabulary being the center word (for skip-gram model) or context word (for CBOW model) given the input word.\n",
        "\n"
      ],
      "metadata": {
        "id": "WjvJEs28pJv_"
      }
    },
    {
      "cell_type": "code",
      "source": [
        "model.add(Reshape((embedding_dim,)))\n",
        "model.add(Dense(vocab_size, activation='softmax'))"
      ],
      "metadata": {
        "id": "7MQIJ8PnnF9X"
      },
      "execution_count": null,
      "outputs": []
    },
    {
      "cell_type": "markdown",
      "source": [],
      "metadata": {
        "id": "gc_Qzz9dqm9x"
      }
    },
    {
      "cell_type": "code",
      "source": [
        "model.compile(optimizer=Adam(learning_rate=0.001), loss='sparse_categorical_crossentropy')\n",
        "\n",
        "# View the model summary\n",
        "model.summary()"
      ],
      "metadata": {
        "colab": {
          "base_uri": "https://localhost:8080/"
        },
        "id": "3aGQjIFOqEKs",
        "outputId": "40325034-cd9f-4d73-e2ed-82adef7ce3bb"
      },
      "execution_count": null,
      "outputs": [
        {
          "output_type": "stream",
          "name": "stdout",
          "text": [
            "Model: \"sequential_1\"\n",
            "_________________________________________________________________\n",
            " Layer (type)                Output Shape              Param #   \n",
            "=================================================================\n",
            " embedding_1 (Embedding)     (None, 1, 50)             127850    \n",
            "                                                                 \n",
            " reshape_2 (Reshape)         (None, 50)                0         \n",
            "                                                                 \n",
            " dense_1 (Dense)             (None, 2557)              130407    \n",
            "                                                                 \n",
            "=================================================================\n",
            "Total params: 258257 (1008.82 KB)\n",
            "Trainable params: 258257 (1008.82 KB)\n",
            "Non-trainable params: 0 (0.00 Byte)\n",
            "_________________________________________________________________\n"
          ]
        }
      ]
    },
    {
      "cell_type": "code",
      "source": [
        "skipgram_models=[]\n",
        "skipgram_models.append(model)"
      ],
      "metadata": {
        "id": "RDRqcwOFrfMR"
      },
      "execution_count": null,
      "outputs": []
    },
    {
      "cell_type": "markdown",
      "source": [
        "![image.png](data:image/png;base64,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)"
      ],
      "metadata": {
        "id": "M9Bbbf_NsYQ5"
      }
    },
    {
      "cell_type": "code",
      "source": [
        "target_words = np.array([pair[0] for pair in pairs])\n",
        "context_words = np.array([pair[1] for pair in pairs])\n",
        "labels = np.array(labels)\n",
        "\n",
        "# Print sample data\n",
        "print(\"Target words shape:\", target_words[:3])\n",
        "print(\"Context words shape:\", context_words[:3])\n",
        "print(\"Labels shape:\", labels[:3])"
      ],
      "metadata": {
        "colab": {
          "base_uri": "https://localhost:8080/"
        },
        "id": "eW9v7GuSrztQ",
        "outputId": "c55c14ef-35bd-4a8c-8710-29ea52a95b24"
      },
      "execution_count": null,
      "outputs": [
        {
          "output_type": "stream",
          "name": "stdout",
          "text": [
            "Target words shape: [  1 595   1]\n",
            "Context words shape: [412   1  92]\n",
            "Labels shape: [0 1 1]\n"
          ]
        }
      ]
    },
    {
      "cell_type": "markdown",
      "source": [
        "The batch_size parameter in machine learning, particularly in training neural networks, determines how many examples (data points) are processed together in one iteration (one forward and backward pass) of the model during training."
      ],
      "metadata": {
        "id": "wuAvm6Etub3Z"
      }
    },
    {
      "cell_type": "code",
      "source": [
        "epochs = 100\n",
        "batch_size = 128\n",
        "\n",
        "history = model.fit(x=target_words, y=labels, epochs=epochs, batch_size=batch_size, verbose=1)"
      ],
      "metadata": {
        "id": "JJYP_Z6FtI9I",
        "collapsed": true
      },
      "execution_count": null,
      "outputs": []
    },
    {
      "cell_type": "markdown",
      "source": [
        "This fetches the learned word vectors (embeddings) from the first layer of the model."
      ],
      "metadata": {
        "id": "LHJOtq3bxB_o"
      }
    },
    {
      "cell_type": "code",
      "source": [
        "word_vectors = model.layers[0].get_weights()[0]"
      ],
      "metadata": {
        "id": "MnduqTdcudhF"
      },
      "execution_count": null,
      "outputs": []
    },
    {
      "cell_type": "markdown",
      "source": [
        "## Testing the model"
      ],
      "metadata": {
        "id": "KB8yJXx_sl4L"
      }
    },
    {
      "cell_type": "code",
      "source": [
        "# Example: Print vector for a specific word\n",
        "word = \"sun\"\n",
        "word_index_sun = word_index[word]\n",
        "word_vector_sun = word_vectors[word_index_sun]\n",
        "print(f\"Vector for word '{word}':\", word_vector_sun)"
      ],
      "metadata": {
        "colab": {
          "base_uri": "https://localhost:8080/"
        },
        "id": "TR-0IVeEwhKY",
        "outputId": "571d9290-de1c-4344-e95e-e64878da8545"
      },
      "execution_count": null,
      "outputs": [
        {
          "output_type": "stream",
          "name": "stdout",
          "text": [
            "Vector for word 'sun': [-0.04995691 -0.02354397 -0.01535579 -0.00777103 -0.0111794  -0.00087384\n",
            " -0.01656079 -0.00046383 -0.00842159 -0.00522517 -0.00295057 -0.01307272\n",
            " -0.01981339 -0.0087378  -0.00304357 -0.01542761 -0.00352961 -0.01462828\n",
            " -0.01836645 -0.00308486 -0.00947519 -0.00923781 -0.00636598 -0.00949104\n",
            " -0.01085035 -0.00986866 -0.00712285 -0.00183876 -0.01471762 -0.03251972\n",
            " -0.01214327 -0.00246868 -0.01132192 -0.00084095 -0.00257912 -0.01953303\n",
            " -0.02521357 -0.0019329  -0.01869153 -0.01643161 -0.00839895 -0.01062655\n",
            " -0.02596357 -0.01111285 -0.01050285 -0.01688613 -0.01991721 -0.01051365\n",
            " -0.00165636 -0.00784271]\n"
          ]
        }
      ]
    },
    {
      "cell_type": "markdown",
      "source": [
        "## Saving the model"
      ],
      "metadata": {
        "id": "zGD-oWX4stA1"
      }
    },
    {
      "cell_type": "code",
      "source": [
        "model.save('word2vec_model.h5')"
      ],
      "metadata": {
        "colab": {
          "base_uri": "https://localhost:8080/"
        },
        "id": "nQycHlWZxOQ_",
        "outputId": "f09effc3-861d-4fc1-dd10-bb3c24a1b28b"
      },
      "execution_count": null,
      "outputs": [
        {
          "output_type": "stream",
          "name": "stderr",
          "text": [
            "/usr/local/lib/python3.10/dist-packages/keras/src/engine/training.py:3103: UserWarning: You are saving your model as an HDF5 file via `model.save()`. This file format is considered legacy. We recommend using instead the native Keras format, e.g. `model.save('my_model.keras')`.\n",
            "  saving_api.save_model(\n"
          ]
        }
      ]
    },
    {
      "cell_type": "markdown",
      "source": [
        "## Loading the saved model"
      ],
      "metadata": {
        "id": "e6s-k8x8sxE5"
      }
    },
    {
      "cell_type": "code",
      "source": [
        "from google.colab import drive\n",
        "drive.mount('/content/drive')"
      ],
      "metadata": {
        "id": "_ZXQ7df1zAwH",
        "colab": {
          "base_uri": "https://localhost:8080/"
        },
        "outputId": "af878956-0874-4df2-86ad-73cd989dc581"
      },
      "execution_count": null,
      "outputs": [
        {
          "output_type": "stream",
          "name": "stdout",
          "text": [
            "Mounted at /content/drive\n"
          ]
        }
      ]
    },
    {
      "cell_type": "code",
      "source": [
        "%cd /content/drive/My Drive/NLP/"
      ],
      "metadata": {
        "colab": {
          "base_uri": "https://localhost:8080/"
        },
        "id": "6wquULLQuB39",
        "outputId": "a2e835d2-82bc-4f82-80ae-72560d2bf89a"
      },
      "execution_count": null,
      "outputs": [
        {
          "output_type": "stream",
          "name": "stdout",
          "text": [
            "/content/drive/My Drive/NLP\n"
          ]
        }
      ]
    },
    {
      "cell_type": "code",
      "source": [
        "from keras.models import load_model\n",
        "model = load_model('word2vec_model.h5')"
      ],
      "metadata": {
        "id": "Z4but4Zqsg40"
      },
      "execution_count": null,
      "outputs": []
    },
    {
      "cell_type": "code",
      "source": [
        "word_vectors = model.layers[0].get_weights()[0]"
      ],
      "metadata": {
        "id": "KOAjp5ZgvzFO"
      },
      "execution_count": null,
      "outputs": []
    },
    {
      "cell_type": "code",
      "source": [
        "word = \"sun\"\n",
        "\n",
        "# This will give the unique integer assigned to sun\n",
        "word_index_sun = word_index[word] # getting the index of the word\n",
        "word_vector_sun = word_vectors[word_index_sun]\n",
        "print(f\"Vector for word '{word}':\", word_vector_sun)"
      ],
      "metadata": {
        "colab": {
          "base_uri": "https://localhost:8080/"
        },
        "id": "mooRQmeuv9-x",
        "outputId": "916edaa5-8147-498a-9462-a43ea82f8e5d"
      },
      "execution_count": null,
      "outputs": [
        {
          "output_type": "stream",
          "name": "stdout",
          "text": [
            "Vector for word 'sun': [-0.04995691 -0.02354397 -0.01535579 -0.00777103 -0.0111794  -0.00087384\n",
            " -0.01656079 -0.00046383 -0.00842159 -0.00522517 -0.00295057 -0.01307272\n",
            " -0.01981339 -0.0087378  -0.00304357 -0.01542761 -0.00352961 -0.01462828\n",
            " -0.01836645 -0.00308486 -0.00947519 -0.00923781 -0.00636598 -0.00949104\n",
            " -0.01085035 -0.00986866 -0.00712285 -0.00183876 -0.01471762 -0.03251972\n",
            " -0.01214327 -0.00246868 -0.01132192 -0.00084095 -0.00257912 -0.01953303\n",
            " -0.02521357 -0.0019329  -0.01869153 -0.01643161 -0.00839895 -0.01062655\n",
            " -0.02596357 -0.01111285 -0.01050285 -0.01688613 -0.01991721 -0.01051365\n",
            " -0.00165636 -0.00784271]\n"
          ]
        }
      ]
    },
    {
      "cell_type": "markdown",
      "source": [
        "Saving the vectors into a file"
      ],
      "metadata": {
        "id": "yFbtDN2g4iIs"
      }
    },
    {
      "cell_type": "code",
      "source": [
        "# Save embeddings for vectors of length 50, 150 and 300 using skipgram model\n",
        "weights = model.get_weights()\n",
        "\n",
        "# Get the embedding matrix\n",
        "embedding = weights[0]\n",
        "\n",
        "# Get word embeddings for each word in the vocabulary, write to file\n",
        "f = open(f\"vectors_skipgram_{len(embedding[0])}.txt\", \"w\")\n",
        "\n",
        "# Create columns for the words and the values in the matrix, makes it easier to read as dataframe\n",
        "columns = [\"word\"] + [f\"value_{i+1}\" for i in range(embedding.shape[1])]\n",
        "\n",
        "# Start writing to the file, start with the column names\n",
        "f.write(\" \".join(columns))\n",
        "\n",
        "# Start a new line\n",
        "f.write(\"\\n\")\n",
        "\n",
        "for word, i in tokenizer.word_index.items():\n",
        "    f.write(word)\n",
        "    f.write(\" \")\n",
        "    f.write(\" \".join(map(str, list(embedding[i,:]))))\n",
        "    f.write(\"\\n\")\n",
        "f.close()"
      ],
      "metadata": {
        "id": "zed8aueR23XM"
      },
      "execution_count": null,
      "outputs": []
    },
    {
      "cell_type": "markdown",
      "source": [
        "## Reading from file"
      ],
      "metadata": {
        "id": "f9WmyMGNv9kI"
      }
    },
    {
      "cell_type": "code",
      "source": [
        "def readingembedding(filepath):\n",
        "  embedding={}\n",
        "\n",
        "  with open(filepath,'r') as f:\n",
        "    # Skip the first line (header)\n",
        "    next(f)\n",
        "\n",
        "    # line.strip().split() will split the string into a list of substrings, using whitespace as the delimiter, resulting in [\"the\", \"0.1\", \"0.2\", \"0.3\", \"0.4\", \"0.5\"]\n",
        "    for i in f:\n",
        "      values = i.strip().split()\n",
        "      word=values[0]\n",
        "      vector = np.array(values[1:], dtype='float32')\n",
        "      embedding[word] = vector\n",
        "\n",
        "  return embedding\n",
        "\n",
        "\n"
      ],
      "metadata": {
        "id": "Y2sT2j9gwU2M"
      },
      "execution_count": 11,
      "outputs": []
    },
    {
      "cell_type": "code",
      "source": [
        "file_path = \"vectors_skipgram_50.txt\"  # Change this to the appropriate file name\n",
        "embeddings = readingembedding(file_path)"
      ],
      "metadata": {
        "id": "lEijNRlnxXqY"
      },
      "execution_count": 12,
      "outputs": []
    },
    {
      "cell_type": "code",
      "source": [
        "import random\n",
        "\n",
        "sample_size=3\n",
        "random_samples=random.sample(list(embeddings.items()), sample_size)\n",
        "\n",
        "dictrandom_samples=dict(random_samples)\n",
        "print(dictrandom_samples)"
      ],
      "metadata": {
        "colab": {
          "base_uri": "https://localhost:8080/"
        },
        "collapsed": true,
        "id": "oWqOZ16gxmgI",
        "outputId": "437785e8-828c-4313-e16e-d63f9666938e"
      },
      "execution_count": 15,
      "outputs": [
        {
          "output_type": "stream",
          "name": "stdout",
          "text": [
            "{'buttered': array([-0.00297961, -0.01606287, -0.016033  , -0.04033352, -0.03449333,\n",
            "       -0.01051829, -0.00125878, -0.02459539, -0.00701919, -0.04350924,\n",
            "       -0.04383783, -0.01495953, -0.00677735, -0.00136663, -0.01395463,\n",
            "       -0.01989064, -0.02675771, -0.00988851, -0.01561086, -0.00980498,\n",
            "       -0.04159708, -0.01578193, -0.00477438, -0.00235357, -0.01867942,\n",
            "       -0.0241338 , -0.03335074, -0.00748007, -0.00767965, -0.01753655,\n",
            "       -0.0026471 , -0.00516949, -0.00978832, -0.04524856, -0.04051555,\n",
            "       -0.00623385, -0.01196444, -0.01452777, -0.02158355, -0.02369903,\n",
            "       -0.04832441, -0.02348122, -0.01539618, -0.01181166, -0.00733155,\n",
            "       -0.00752114, -0.00190257, -0.01504108, -0.01965774, -0.01267564],\n",
            "      dtype=float32), 'eats': array([-1.17206248e-02, -3.75913270e-02, -4.93128598e-03, -1.12114707e-02,\n",
            "       -1.07162809e-02, -3.64086851e-02, -4.86602075e-03, -1.75129939e-02,\n",
            "       -1.44081993e-03, -2.31393101e-03, -7.91653525e-03, -9.87029076e-03,\n",
            "       -1.27362125e-02, -4.75922711e-02, -1.80670135e-02, -6.44508749e-03,\n",
            "       -4.36720625e-02, -2.01055650e-02, -3.62251401e-02, -2.11367924e-02,\n",
            "       -4.57194820e-02, -8.03449005e-03, -1.58608686e-02, -7.03583984e-03,\n",
            "       -2.98985094e-03, -9.00033768e-03, -7.87900575e-03, -1.13629922e-02,\n",
            "       -4.20921817e-02, -7.72079080e-03, -4.54460867e-02, -1.07119223e-02,\n",
            "       -1.54190054e-02, -4.48316336e-03, -2.30456963e-02, -3.33731771e-02,\n",
            "       -2.96004415e-02, -1.97959598e-02, -2.69335508e-02, -2.52493168e-03,\n",
            "       -5.43882998e-05, -3.15517671e-02, -3.90828252e-02, -3.63756046e-02,\n",
            "       -1.43030835e-02, -4.58423011e-02, -1.62068717e-02, -4.98801842e-03,\n",
            "       -3.77107458e-03, -3.94170508e-02], dtype=float32), 'crab': array([-1.73537694e-02, -1.33441091e-02, -1.03168888e-03, -1.23322215e-02,\n",
            "       -1.16107950e-03, -1.32631175e-02, -4.39444445e-02, -4.45366614e-02,\n",
            "       -2.05950141e-02, -8.40923935e-03, -4.41673119e-03, -1.51460734e-03,\n",
            "       -4.20132419e-03, -1.95317343e-03, -1.38762058e-03, -4.52052839e-02,\n",
            "       -5.44247637e-03, -1.41638853e-02, -8.03990290e-03, -6.47288561e-03,\n",
            "       -5.20763965e-03, -4.36457656e-02, -4.24896590e-02, -1.70200840e-02,\n",
            "       -3.83416261e-03, -2.58908578e-04, -1.94538236e-02, -4.35510874e-02,\n",
            "       -4.68014739e-02, -1.11088157e-05, -9.61043593e-03, -5.90370456e-03,\n",
            "       -1.36209726e-02, -1.28248204e-02, -2.10590493e-02, -9.90198459e-03,\n",
            "       -1.99184404e-04, -6.71229511e-03, -7.95124844e-03, -4.97397296e-02,\n",
            "       -5.95458597e-03, -9.53074265e-03, -6.74663391e-03, -4.05224450e-02,\n",
            "       -9.59525723e-03, -3.15930787e-03, -2.23629270e-03, -2.64645945e-02,\n",
            "       -4.74639004e-03, -7.33668730e-03], dtype=float32)}\n"
          ]
        }
      ]
    },
    {
      "cell_type": "markdown",
      "source": [
        "## First read the vectors from file and then implement this to get the context words from a target word\n",
        "\n",
        "## Similarity = (A.B) / (||A||.||B||)"
      ],
      "metadata": {
        "id": "1RtfLW3X42SO"
      }
    },
    {
      "cell_type": "code",
      "source": [
        "import numpy as np\n",
        "from numpy.linalg import norm\n",
        "\n",
        "def find_context_word(target_word_vector, word_to_vec, top_n=5):\n",
        "  similarities={}\n",
        "\n",
        "  for word, vector in word_to_vec.items():\n",
        "    # Compute cosine similarity between target_word_vector and each word's vector\n",
        "    cosinesimil=np.dot(target_word_vector, vector)/ (norm(target_word_vector)*norm(vector))\n",
        "    similarities[word]=cosinesimil\n",
        "\n",
        "    # Sort words by similarity in descending order on the basis of score\n",
        "    sorted_words = sorted(similarities.items(), key=lambda x: x[1], reverse=True)\n",
        "\n",
        "  return sorted_words[:top_n]"
      ],
      "metadata": {
        "id": "CPiTBQJ3ymwD"
      },
      "execution_count": null,
      "outputs": []
    },
    {
      "cell_type": "code",
      "source": [
        "word = \"king\"\n",
        "word_index_sun = word_index[word] # getting the index of the word\n",
        "word_vector_sun = word_vectors[word_index_sun]\n",
        "print(f\"Vector for word '{word}':\", word_vector_sun)\n",
        "\n",
        "top_context_words=find_context_word(word_vector_sun,embeddings)\n",
        "\n",
        "print(f\"Context words for '{word}':\")\n",
        "for word, similarity in top_context_words:\n",
        "    print(f\"{word}: Similarity {similarity:.4f}\")"
      ],
      "metadata": {
        "colab": {
          "base_uri": "https://localhost:8080/"
        },
        "id": "FAtbcPaU1OOj",
        "outputId": "ac7fc06e-b92f-4590-d457-f02569fb7665"
      },
      "execution_count": null,
      "outputs": [
        {
          "output_type": "stream",
          "name": "stdout",
          "text": [
            "Vector for word 'king': [-0.04029531 -0.01251701 -0.00844074 -0.03478764 -0.00648273 -0.00528194\n",
            " -0.02896863 -0.00697941 -0.00729364 -0.00522171 -0.00698193 -0.04181821\n",
            " -0.01228357 -0.02159925 -0.00928047 -0.03116969 -0.00384338 -0.00414772\n",
            " -0.00912029 -0.00301068 -0.00255873 -0.01239972 -0.04025835 -0.02359065\n",
            " -0.0234599  -0.04459349 -0.01736427 -0.01176924 -0.00519021 -0.03658069\n",
            " -0.01083696 -0.00880999 -0.03069806 -0.00918678 -0.01068323 -0.0075828\n",
            " -0.00688941 -0.00278039 -0.03815588 -0.00991805 -0.00540503 -0.02679384\n",
            " -0.00744081 -0.03888807 -0.04089154 -0.0353977  -0.04921369 -0.04165797\n",
            " -0.04488122 -0.04326341]\n",
            "Context words for 'king':\n",
            "king: Similarity 1.0000\n",
            "puppy: Similarity 0.8001\n",
            "the: Similarity 0.7928\n",
            "fumbled: Similarity 0.7902\n",
            "tales: Similarity 0.7888\n"
          ]
        }
      ]
    },
    {
      "cell_type": "markdown",
      "source": [
        "# Implementing Word2vec with CBOW"
      ],
      "metadata": {
        "id": "NaPPJI__ju9D"
      }
    },
    {
      "cell_type": "markdown",
      "source": [
        "1.   Data pre processing is done above\n",
        "\n"
      ],
      "metadata": {
        "id": "lDABUW20l50R"
      }
    },
    {
      "cell_type": "markdown",
      "source": [
        "## Generate CBOW Training Data\n",
        "The CBOW contains the context of a word and the target word itself but in the form of integers"
      ],
      "metadata": {
        "id": "Tj_9b4zlqCry"
      }
    },
    {
      "cell_type": "code",
      "source": [
        "# Window size 2 means that 2 words before the target word and 2 words after the target words\n",
        "window_size=2\n",
        "context_target_pairs = []\n",
        "\n",
        "# sequences if given above ([1,2,3,4],[3,4,5,6])\n",
        "for sequence in sequences:\n",
        "  for i, target_word in enumerate(sequence):\n",
        "    context=[]\n",
        "\n",
        "    # The context would be from min index 0 or target word - windows size to min length of sequence and the target word +window\n",
        "    for j in range(max(0,i-window_size), min(len(sequence), i+window_size+1)):\n",
        "      # this would exclude the word itself from the context\n",
        "      if j!=i:\n",
        "        context.append(sequence[j])\n",
        "\n",
        "    # to avoid the keyvalue error of numpy which happens when the context lenght are not same then we add zeros as many times to get equal length for all context list\n",
        "    if len(context) < 2 * window_size:\n",
        "      context = context + [0] * (2 * window_size - len(context))\n",
        "    context_target_pairs.append((context, target_word))\n"
      ],
      "metadata": {
        "id": "4Q5me3kLp7q8"
      },
      "execution_count": 16,
      "outputs": []
    },
    {
      "cell_type": "code",
      "source": [
        "context_target_pairs[0:3]"
      ],
      "metadata": {
        "colab": {
          "base_uri": "https://localhost:8080/"
        },
        "id": "IKqodvWnogXd",
        "outputId": "ecf31e7c-b289-4c05-c0bb-c7e7c27b4371"
      },
      "execution_count": 17,
      "outputs": [
        {
          "output_type": "execute_result",
          "data": {
            "text/plain": [
              "[([7, 38, 0, 0], 305), ([305, 38, 1, 0], 7), ([305, 7, 1, 92], 38)]"
            ]
          },
          "metadata": {},
          "execution_count": 17
        }
      ]
    },
    {
      "cell_type": "markdown",
      "source": [
        "## Separating the input and ouput data which is context and target word\n",
        "\n",
        "Y=to_categorical(np.array(y), num_classes=vocab_size)\n",
        "This converts Y into an np array\n",
        "\n",
        "y = np.array([1, 2, 34, 4, 5, 6, 7, 8, 5, 3, 2, 4, 5, 5])\n",
        "\n",
        "and then one hot vector\n",
        "\n",
        "array([\n",
        " [1., 0., 0., 0., 0.],  # 0 -> [1, 0, 0, 0, 0]\n",
        " [0., 1., 0., 0., 0.],  # 1 -> [0, 1, 0, 0, 0]\n",
        " [0., 0., 1., 0., 0.],  # 2 -> [0, 0, 1, 0, 0]\n",
        " [0., 0., 0., 1., 0.],  # 3 -> [0, 0, 0, 1, 0]\n",
        " [0., 0., 0., 0., 1.]   # 4 -> [0, 0, 0, 0, 1]\n",
        "])\n"
      ],
      "metadata": {
        "id": "ac1MdNy4x6Fn"
      }
    },
    {
      "cell_type": "code",
      "source": [
        "X=[]\n",
        "Y=[]\n",
        "\n",
        "for context, target in context_target_pairs:\n",
        "  X.append(context)\n",
        "  Y.append(target)\n",
        "\n",
        "X=np.array(X)\n",
        "Y=to_categorical(np.array(Y), num_classes=vocab_size)"
      ],
      "metadata": {
        "id": "pbuCl3I-svHg"
      },
      "execution_count": null,
      "outputs": []
    },
    {
      "cell_type": "code",
      "source": [
        "print(X[:4])\n",
        "print(Y[:4])"
      ],
      "metadata": {
        "colab": {
          "base_uri": "https://localhost:8080/"
        },
        "id": "bbFCsxc0z2nm",
        "outputId": "a2d22ff3-83fe-4281-f851-bf6e8831dc6e"
      },
      "execution_count": null,
      "outputs": [
        {
          "output_type": "stream",
          "name": "stdout",
          "text": [
            "[[  7  38   0   0]\n",
            " [305  38   1   0]\n",
            " [305   7   1  92]\n",
            " [  7  38  92 595]]\n",
            "[[0. 0. 0. ... 0. 0. 0.]\n",
            " [0. 0. 0. ... 0. 0. 0.]\n",
            " [0. 0. 0. ... 0. 0. 0.]\n",
            " [0. 1. 0. ... 0. 0. 0.]]\n"
          ]
        }
      ]
    },
    {
      "cell_type": "markdown",
      "source": [
        "## Creating the architecture"
      ],
      "metadata": {
        "id": "mxm04kl35jaM"
      }
    },
    {
      "cell_type": "markdown",
      "source": [
        "Input Layer:\n",
        "\n",
        "Shape: The input layer takes a fixed-size context window as input. For example, if the window size is 2, the context size would be 2 * window_size (e.g., 4).\n",
        "Data: The input is a list of word indices representing the context words."
      ],
      "metadata": {
        "id": "hpQfPzvr8NU0"
      }
    },
    {
      "cell_type": "code",
      "source": [
        "from tensorflow.keras.layers import Input, Embedding, Lambda, Dense\n",
        "\n",
        "context_size = 2 * window_size  # The total number of context words\n",
        "embedding_dim = 100  # The size of the embedding vectors\n",
        "input_layer = Input(shape=(context_size,))  # Input layer"
      ],
      "metadata": {
        "id": "6Q_u60D55oE0"
      },
      "execution_count": null,
      "outputs": []
    },
    {
      "cell_type": "markdown",
      "source": [
        "Embedding Layer:\n",
        "\n",
        "Purpose: The embedding layer converts the input word indices into dense vectors of fixed size (embedding dimension).\n",
        "\n",
        "Parameters:\n",
        "input_dim: The size of the vocabulary (total number of unique words).\n",
        "\n",
        "output_dim: The size of the embedding vectors (e.g., 100).\n",
        "\n",
        "input_length: The length of the input sequence (context size).\n",
        "\n",
        "Output: A 2D tensor where each word index is replaced by its corresponding dense vector."
      ],
      "metadata": {
        "id": "PTbC5tw3_xpw"
      }
    },
    {
      "cell_type": "code",
      "source": [
        "embedding_layer = Embedding(input_dim=vocab_size, output_dim=embedding_dim, input_length=context_size)(input_layer)  # Embedding layer"
      ],
      "metadata": {
        "id": "gUUm3tvPABXI"
      },
      "execution_count": null,
      "outputs": []
    },
    {
      "cell_type": "markdown",
      "source": [
        "Averaging Layer:\n",
        "\n",
        "Averages the embeddings of the context words along the axis corresponding to the context words (axis=1). The resulting shape of the output tensor is (batch_size, embedding_dim).\n",
        "\n",
        "The averaging layer takes this matrix of context word embeddings and computes the mean of these embeddings.\n",
        "\n",
        "This operation reduces the dimensionality of the tensor by averaging the vectors along the axis corresponding to the context words.\n",
        "\n",
        "The purpose of averaging is to produce a single vector that summarizes the information from all context words.\n",
        "\n",
        "The resulting vector has the same dimensionality as the embedding vectors, but it now represents the average context."
      ],
      "metadata": {
        "id": "XP0Q1C5AAobl"
      }
    },
    {
      "cell_type": "code",
      "source": [
        "averaging_layer = Lambda(lambda x: tf.reduce_mean(x, axis=1))(embedding_layer)  # Averaging layer"
      ],
      "metadata": {
        "id": "swSFknuRBuHd"
      },
      "execution_count": null,
      "outputs": []
    },
    {
      "cell_type": "markdown",
      "source": [
        "Dense (Output) Layer:\n",
        "\n",
        "Purpose: The dense layer predicts the target word based on the averaged context vector.\n",
        "\n",
        "Activation Function: Typically, a softmax activation function is used to output a probability distribution over the vocabulary.\n",
        "\n",
        "Output: A vector of probabilities, one for each word in the vocabulary."
      ],
      "metadata": {
        "id": "d5Xd4dt6B4o0"
      }
    },
    {
      "cell_type": "code",
      "source": [
        "output_layer = Dense(vocab_size, activation='softmax')(averaging_layer)  # Output layer"
      ],
      "metadata": {
        "id": "PcvsxmPnB84u"
      },
      "execution_count": null,
      "outputs": []
    },
    {
      "cell_type": "markdown",
      "source": [
        "Compilation and Training:\n",
        "\n",
        "The model is compiled with the categorical cross-entropy loss function and the Adam optimizer.\n",
        "The model is trained on the prepared input (context words) and output (target word) data."
      ],
      "metadata": {
        "id": "ke0Rzon1CX_w"
      }
    },
    {
      "cell_type": "code",
      "source": [
        "from tensorflow.keras.models import Model\n",
        "\n",
        "# Create and compile the model\n",
        "model = Model(inputs=input_layer, outputs=output_layer)\n",
        "model.compile(loss='categorical_crossentropy', optimizer=Adam())"
      ],
      "metadata": {
        "id": "WL1K4ti7CXA-"
      },
      "execution_count": null,
      "outputs": []
    },
    {
      "cell_type": "code",
      "source": [
        "# Print the model summary\n",
        "model.summary()"
      ],
      "metadata": {
        "colab": {
          "base_uri": "https://localhost:8080/"
        },
        "id": "nS28yo-oCnyG",
        "outputId": "0a3b63c3-7adb-4e9b-9f55-74e4225d2559"
      },
      "execution_count": null,
      "outputs": [
        {
          "output_type": "stream",
          "name": "stdout",
          "text": [
            "Model: \"model\"\n",
            "_________________________________________________________________\n",
            " Layer (type)                Output Shape              Param #   \n",
            "=================================================================\n",
            " input_2 (InputLayer)        [(None, 4)]               0         \n",
            "                                                                 \n",
            " embedding (Embedding)       (None, 4, 100)            255700    \n",
            "                                                                 \n",
            " lambda (Lambda)             (None, 100)               0         \n",
            "                                                                 \n",
            " dense (Dense)               (None, 2557)              258257    \n",
            "                                                                 \n",
            "=================================================================\n",
            "Total params: 513957 (1.96 MB)\n",
            "Trainable params: 513957 (1.96 MB)\n",
            "Non-trainable params: 0 (0.00 Byte)\n",
            "_________________________________________________________________\n"
          ]
        }
      ]
    },
    {
      "cell_type": "code",
      "source": [
        "model.fit(X, Y, epochs=10, batch_size=32)"
      ],
      "metadata": {
        "colab": {
          "base_uri": "https://localhost:8080/"
        },
        "id": "wVDDpG3WCuzk",
        "outputId": "be309694-bfd5-4883-c0a6-3559024e37dc"
      },
      "execution_count": null,
      "outputs": [
        {
          "output_type": "stream",
          "name": "stdout",
          "text": [
            "Epoch 1/10\n",
            "849/849 [==============================] - 10s 10ms/step - loss: 6.4833\n",
            "Epoch 2/10\n",
            "849/849 [==============================] - 10s 12ms/step - loss: 5.8823\n",
            "Epoch 3/10\n",
            "849/849 [==============================] - 10s 12ms/step - loss: 5.6342\n",
            "Epoch 4/10\n",
            "849/849 [==============================] - 8s 10ms/step - loss: 5.3968\n",
            "Epoch 5/10\n",
            "849/849 [==============================] - 10s 12ms/step - loss: 5.1696\n",
            "Epoch 6/10\n",
            "849/849 [==============================] - 9s 11ms/step - loss: 4.9526\n",
            "Epoch 7/10\n",
            "849/849 [==============================] - 11s 13ms/step - loss: 4.7527\n",
            "Epoch 8/10\n",
            "849/849 [==============================] - 10s 12ms/step - loss: 4.5687\n",
            "Epoch 9/10\n",
            "849/849 [==============================] - 8s 10ms/step - loss: 4.3979\n",
            "Epoch 10/10\n",
            "849/849 [==============================] - 14s 16ms/step - loss: 4.2370\n"
          ]
        },
        {
          "output_type": "execute_result",
          "data": {
            "text/plain": [
              "<keras.src.callbacks.History at 0x7ef610104b80>"
            ]
          },
          "metadata": {},
          "execution_count": 49
        }
      ]
    },
    {
      "cell_type": "markdown",
      "source": [
        "# Testing Phase"
      ],
      "metadata": {
        "id": "Jtak1_DoCWnG"
      }
    },
    {
      "cell_type": "markdown",
      "source": [
        "The model basically just recieves the indexes of the context words from the word_index which has assigned int to each word in the corpus"
      ],
      "metadata": {
        "id": "AvcGMn2VJW0I"
      }
    },
    {
      "cell_type": "code",
      "source": [
        "embeddingsCBOW = model.get_weights()[0]"
      ],
      "metadata": {
        "id": "0EINY8xFDY9B"
      },
      "execution_count": null,
      "outputs": []
    },
    {
      "cell_type": "code",
      "source": [
        "import numpy as np\n",
        "\n",
        "target_word = \"king\"\n",
        "context_words = [\"the\", \"queen\"]\n",
        "\n",
        "# getting the index of target word\n",
        "target_word_index = word_index[target_word]\n",
        "\n",
        "# getting the index of context words\n",
        "context_word_indices = []\n",
        "for word in context_words:\n",
        "    context_word_indices.append(word_index[word])\n",
        "\n",
        "# As the context size should be same so it will fill the remaining space with zeroes\n",
        "context_word_indices= np.array(context_word_indices)\n",
        "context_vector = np.zeros(shape=(1, context_size))\n",
        "for i, index in enumerate(context_word_indices):\n",
        "    context_vector[0, i] = index\n",
        "\n",
        "\n",
        "context_vector=np.array(context_vector)\n",
        "\n",
        "# Dimensions: The array will have a shape of (1, vocab_size), which means it will have 1 row and vocab_size columns.\n",
        "y_test = np.zeros((1, vocab_size))\n",
        "\n",
        "# making the index of the target word as 1\n",
        "y_test[0, word_index[target_word]] = 1\n",
        "\n",
        "predictions = model.predict(context_vector)\n",
        "\n",
        "# Evaluate the prediction\n",
        "predicted_class = np.argmax(predictions, axis=1)\n",
        "true_class = np.argmax(y_test, axis=1)\n",
        "\n",
        "print(f\"Predicted class: {predicted_class}\")\n",
        "print(f\"True class: {true_class}\")"
      ],
      "metadata": {
        "colab": {
          "base_uri": "https://localhost:8080/"
        },
        "id": "1NpHhpDgEFIm",
        "outputId": "110b0968-7e72-4e81-e280-d179bf4248e0"
      },
      "execution_count": null,
      "outputs": [
        {
          "output_type": "stream",
          "name": "stdout",
          "text": [
            "1/1 [==============================] - 0s 32ms/step\n",
            "Predicted class: [9]\n",
            "True class: [73]\n"
          ]
        }
      ]
    },
    {
      "cell_type": "code",
      "source": [
        "accuracy = np.mean(predicted_class == true_class)\n",
        "print(f'Accuracy: {accuracy:.4f}')"
      ],
      "metadata": {
        "colab": {
          "base_uri": "https://localhost:8080/"
        },
        "id": "IPIKgq4kLPpY",
        "outputId": "365e3ea9-c83c-4b44-b122-2288f98525da"
      },
      "execution_count": null,
      "outputs": [
        {
          "output_type": "stream",
          "name": "stdout",
          "text": [
            "Accuracy: 0.0000\n"
          ]
        }
      ]
    },
    {
      "cell_type": "code",
      "source": [],
      "metadata": {
        "id": "egHRoKxlLcOd"
      },
      "execution_count": null,
      "outputs": []
    }
  ]
}